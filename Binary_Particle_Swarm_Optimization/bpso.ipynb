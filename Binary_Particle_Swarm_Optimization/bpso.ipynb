{
 "cells": [
  {
   "cell_type": "code",
   "execution_count": 1,
   "id": "65829f79-aa94-4b2b-8e71-0178b8520616",
   "metadata": {},
   "outputs": [],
   "source": [
    "import random\n",
    "import numpy as np\n",
    "from matplotlib import pyplot as plt\n",
    "from matplotlib import animation\n",
    "from IPython.display import Image"
   ]
  },
  {
   "cell_type": "code",
   "execution_count": 2,
   "id": "9389643b-36bc-4fca-97cd-baea4e28c78d",
   "metadata": {},
   "outputs": [],
   "source": [
    "def fitness_function(particles):\n",
    "    # Problem expressed by the following equation:\n",
    "    # f(x1, x2) = (x1 + 2* -x2 +3)^2 + (2* x1 + x2 -8)^2\n",
    "    \n",
    "    f1 = particles[:, 0] + 2 * -particles[:, 1] + 3\n",
    "    f2 = 2 * particles[:, 0] + particles[:, 1] - 8\n",
    "    z = f1**2 + f2**2\n",
    "    return z"
   ]
  },
  {
   "cell_type": "code",
   "execution_count": 3,
   "id": "26ae1638-a534-4eb6-b29b-c94e10bb7258",
   "metadata": {},
   "outputs": [],
   "source": [
    "def update_velocity(particle, velocity, pbest, gbest, w_min=0.5, max=1.0, c=0.1):\n",
    "    r1 = np.random.uniform(0, max, size=particle.shape)\n",
    "    r2 = np.random.uniform(0, max, size=particle.shape)\n",
    "    w = np.random.uniform(w_min, max)\n",
    "    c1 = c\n",
    "    c2 = c\n",
    "\n",
    "    new_velocity = w * velocity + c1 * r1 * (pbest - particle) + c2 * r2 * (gbest - particle)\n",
    "\n",
    "    return new_velocity"
   ]
  },
  {
   "cell_type": "code",
   "execution_count": 4,
   "id": "525da62e-69d7-4d9d-bb91-741f83e20289",
   "metadata": {},
   "outputs": [],
   "source": [
    "def update_position(particle, velocity):\n",
    "    # Move particles by adding velocity\n",
    "    \n",
    "    particle += velocity\n",
    "    return particle"
   ]
  },
  {
   "cell_type": "code",
   "execution_count": 5,
   "id": "4d703f0c-bf28-4628-b516-f60651119432",
   "metadata": {},
   "outputs": [],
   "source": [
    "def pso_2d(population, dimension, position_min, position_max, generation, fitness_criterion):\n",
    "    # Population\n",
    "    particles = np.array([[random.uniform(position_min, position_max) for _ in range(dimension)] for _ in range(population)])\n",
    "    \n",
    "    # particle best position\n",
    "    pbest_position = particles\n",
    "    \n",
    "    # Fitness\n",
    "    pbest_fitness = fitness_function(particles)\n",
    "    \n",
    "    # Index of the best particle\n",
    "    gbest_index = np.argmin(pbest_fitness)\n",
    "    \n",
    "    # Global best particle position\n",
    "    gbest_position = pbest_position[gbest_index]\n",
    "    \n",
    "    # Velocity (starting from 0 speed)\n",
    "    velocity = np.zeros((population, dimension))\n",
    "\n",
    "    # List to store positions at each generation / later used for visualization\n",
    "    all_positions = []\n",
    "\n",
    "    # Loop for the number of generations\n",
    "    for t in range(generation):\n",
    "        # Stop if the average fitness value reached a predefined success criterion\n",
    "        if np.average(pbest_fitness) <= fitness_criterion:\n",
    "            break\n",
    "        else:\n",
    "            # Update velocity of all particles\n",
    "            velocity = update_velocity(particles, velocity, pbest_position, gbest_position)\n",
    "\n",
    "            # Move all particles to new positions\n",
    "            particles = update_position(particles, velocity)\n",
    "            \n",
    "            # Store current particles\n",
    "            all_positions.append([p.copy() for p in particles])\n",
    "        \n",
    "        # Calculate the fitness value\n",
    "        pbest_fitness = fitness_function(particles)\n",
    "        \n",
    "        # Find the index of the best particle\n",
    "        gbest_index = np.argmin(pbest_fitness)\n",
    "        \n",
    "        # Update the position of the best particle\n",
    "        gbest_position = pbest_position[gbest_index]\n",
    "\n",
    "\n",
    "    # Print the results\n",
    "    print('Global Best Position: ', gbest_position)\n",
    "    print('Best Fitness Value: ', min(pbest_fitness))\n",
    "    print('Average Particle Best Fitness Value: ', np.average(pbest_fitness))\n",
    "    print('Number of Generations: ', t)\n",
    "\n",
    "    return all_positions, t"
   ]
  },
  {
   "cell_type": "code",
   "execution_count": 6,
   "id": "49294c73-39a9-4f76-badb-b6f4a9187abf",
   "metadata": {},
   "outputs": [
    {
     "name": "stdout",
     "output_type": "stream",
     "text": [
      "Global Best Position:  [2.59990577 2.80069011]\n",
      "Best Fitness Value:  2.425637401553773e-06\n",
      "Average Particle Best Fitness Value:  0.0006078852200892478\n",
      "Number of Generations:  63\n"
     ]
    }
   ],
   "source": [
    "population = 100\n",
    "dimension = 2\n",
    "position_min = -100.0\n",
    "position_max = 100.0\n",
    "generation = 400\n",
    "fitness_criterion = 10e-4\n",
    "\n",
    "particle_positions, actual_generations = pso_2d(population, dimension, position_min, position_max, generation, fitness_criterion)\n",
    "\n",
    "# Plotting preparation\n",
    "fig = plt.figure(figsize=(10, 10))\n",
    "ax = fig.add_subplot(111, projection='3d')\n",
    "ax.set_xlabel('X Label')\n",
    "ax.set_ylabel('Y Label')\n",
    "ax.set_zlabel('Z Label')\n",
    "\n",
    "x = np.linspace(position_min, position_max, 80)\n",
    "y = np.linspace(position_min, position_max, 80)\n",
    "X, Y = np.meshgrid(x, y)\n",
    "\n",
    "positions = np.stack((X.ravel(), Y.ravel()), axis = -1)\n",
    "fitness_values = fitness_function(positions)\n",
    "Z = fitness_values.reshape(X.shape)\n",
    "ax.plot_wireframe(X, Y, Z, color='r', linewidth=0.2)\n",
    "\n",
    "images = []\n",
    "\n",
    "# Add plot for each generation (within the generation for-loop)\n",
    "for t in range(actual_generations): \n",
    "    particles = np.stack(particle_positions[t])\n",
    "    fitness_values = fitness_function(particles)  \n",
    "    image = ax.scatter3D(particles[:, 0],\n",
    "                         particles[:, 1],\n",
    "                         fitness_values, c='b')\n",
    "    images.append([image])\n",
    "\n",
    "# Generate the animation image and save\n",
    "\n",
    "animated_image = animation.ArtistAnimation(fig, images, interval=200, blit=True, repeat=True)\n",
    "animated_image.save('./pso_simple.gif', writer='pillow')\n",
    "plt.close()"
   ]
  },
  {
   "cell_type": "markdown",
   "id": "c585bf56-cb5d-40ed-9ea3-92983b37ff9c",
   "metadata": {},
   "source": [
    "![Binary Particle Swarm](pso_simple.gif)"
   ]
  }
 ],
 "metadata": {
  "kernelspec": {
   "display_name": "Python 3 (ipykernel)",
   "language": "python",
   "name": "python3"
  },
  "language_info": {
   "codemirror_mode": {
    "name": "ipython",
    "version": 3
   },
   "file_extension": ".py",
   "mimetype": "text/x-python",
   "name": "python",
   "nbconvert_exporter": "python",
   "pygments_lexer": "ipython3",
   "version": "3.10.12"
  }
 },
 "nbformat": 4,
 "nbformat_minor": 5
}
